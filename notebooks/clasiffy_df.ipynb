{
 "cells": [
  {
   "cell_type": "code",
   "execution_count": 1,
   "metadata": {
    "id": "Qh0_ITlO0ATe"
   },
   "outputs": [
    {
     "name": "stderr",
     "output_type": "stream",
     "text": [
      "2024-12-07 08:00:10.634352: E external/local_xla/xla/stream_executor/cuda/cuda_fft.cc:477] Unable to register cuFFT factory: Attempting to register factory for plugin cuFFT when one has already been registered\n",
      "WARNING: All log messages before absl::InitializeLog() is called are written to STDERR\n",
      "E0000 00:00:1733569210.653784    9514 cuda_dnn.cc:8310] Unable to register cuDNN factory: Attempting to register factory for plugin cuDNN when one has already been registered\n",
      "E0000 00:00:1733569210.659062    9514 cuda_blas.cc:1418] Unable to register cuBLAS factory: Attempting to register factory for plugin cuBLAS when one has already been registered\n",
      "2024-12-07 08:00:10.677257: I tensorflow/core/platform/cpu_feature_guard.cc:210] This TensorFlow binary is optimized to use available CPU instructions in performance-critical operations.\n",
      "To enable the following instructions: AVX2 FMA, in other operations, rebuild TensorFlow with the appropriate compiler flags.\n"
     ]
    }
   ],
   "source": [
    "import pandas as pd\n",
    "import numpy as np\n",
    "import os\n",
    "import sys\n",
    "import matplotlib.pyplot as plt\n",
    "import joblib\n",
    "import keras\n",
    "import cv2 as cv\n",
    "sys.path.insert(0, \"../packages/python\")"
   ]
  },
  {
   "cell_type": "code",
   "execution_count": 2,
   "metadata": {},
   "outputs": [],
   "source": [
    "CSV_PATH = '../output/sam_uploaded_out/'\n",
    "CROPS_PATH = '../output/cropped_cells_full/'\n",
    "MODELS_PATH = '../models/'"
   ]
  },
  {
   "cell_type": "code",
   "execution_count": 3,
   "metadata": {},
   "outputs": [],
   "source": [
    "def predict_cell(model_path, image_path, encoder_path=None):\n",
    "    img = cv.imread(image_path)#, cv.IMREAD_GRAYSCALE)\n",
    "    img = cv.resize(img, (128, 128))\n",
    "    _, model_extention = os.path.splitext(model_path)\n",
    "\n",
    "    if model_extention != '.keras': \n",
    "        kmeans = joblib.load(model_path)\n",
    "\n",
    "        if encoder_path != None: # Use clustering with encoder embeddings for detection\n",
    "            img = np.expand_dims(img, axis=(0, -1))\n",
    "            encoder = keras.models.load_model(encoder_path)\n",
    "            feature = encoder.predict(img, verbose=0).astype(float)\n",
    "            prediction = kmeans.predict(feature)[0]\n",
    "\n",
    "        else: # Use clustering with color histogram for detection\n",
    "            hist_predict = cv.calcHist(img, [0], None, [8], [0, 256]).flatten()\n",
    "            hist_predict = np.array(hist_predict).reshape(1, -1)      \n",
    "            hist_predict = hist_predict/255\n",
    "            prediction = kmeans.predict(hist_predict)[0]\n",
    "\n",
    "    else: #Use CNN for detection\n",
    "        model = keras.models.load_model(model_path)\n",
    "        img = np.array(img)\n",
    "        img = img/255\n",
    "        prediction = model.predict(np.expand_dims(img, 0),verbose = 0)[0][0]\n",
    "\n",
    "    return True if prediction >= 0.5 else False"
   ]
  },
  {
   "cell_type": "code",
   "execution_count": 20,
   "metadata": {},
   "outputs": [],
   "source": [
    "csvs = sorted(os.listdir(CSV_PATH))\n",
    "crops = sorted(os.listdir(CROPS_PATH))\n",
    "models = sorted(os.listdir(MODELS_PATH))"
   ]
  },
  {
   "cell_type": "code",
   "execution_count": 21,
   "metadata": {},
   "outputs": [],
   "source": [
    "encoder = ''\n",
    "for i, model in enumerate(models):\n",
    "    if 'encoder' in model:\n",
    "        encoder = models.pop(i)"
   ]
  },
  {
   "cell_type": "code",
   "execution_count": null,
   "metadata": {},
   "outputs": [
    {
     "name": "stdout",
     "output_type": "stream",
     "text": [
      "Model: DenseNet121.keras - CSV: 001_00001.csv - Image: 4/97 - 001_00001_11.png\r"
     ]
    }
   ],
   "source": [
    "images=[]\n",
    "for model in models:\n",
    "    \n",
    "    base_model, _ = os.path.splitext(model)\n",
    "    output = f\"../output/evaluated/{base_model}\"\n",
    "    if not os.path.exists(output): #Create dirs for each model used\n",
    "        os.makedirs(output)\n",
    "\n",
    "    for csv in csvs:\n",
    "        base_name, _ = os.path.splitext(csv)\n",
    "        images = sorted([crop for crop in crops if crop.startswith(base_name)])   \n",
    "        df = pd.read_csv(os.path.join(CSV_PATH, csv))\n",
    "        for idx, image in enumerate(images):\n",
    "            print(f\"Model: {model} - CSV: {csv} - Image: {idx + 1}/{len(images)} - {image}\", end='\\r')\n",
    "            og_image_name, _ = os.path.splitext(image)\n",
    "            cell_id = og_image_name.split('_')[2]\n",
    "            is_cell = predict_cell(model_path=os.path.join(MODELS_PATH, model), image_path=os.path.join(CROPS_PATH, image))\n",
    "            mask = (df['cell_id'] == int(cell_id)) & (df['image'] == base_name)\n",
    "            df.loc[mask, 'is_cell'] = is_cell \n",
    "        df.to_csv(os.path.join(output, csv))\n",
    "\n",
    "# print(images)"
   ]
  },
  {
   "cell_type": "code",
   "execution_count": null,
   "metadata": {},
   "outputs": [],
   "source": []
  }
 ],
 "metadata": {
  "accelerator": "GPU",
  "colab": {
   "collapsed_sections": [
    "IhGniA16bT4r"
   ],
   "gpuType": "T4",
   "provenance": []
  },
  "kernelspec": {
   "display_name": ".venv",
   "language": "python",
   "name": "python3"
  },
  "language_info": {
   "codemirror_mode": {
    "name": "ipython",
    "version": 3
   },
   "file_extension": ".py",
   "mimetype": "text/x-python",
   "name": "python",
   "nbconvert_exporter": "python",
   "pygments_lexer": "ipython3",
   "version": "3.12.3"
  }
 },
 "nbformat": 4,
 "nbformat_minor": 0
}
