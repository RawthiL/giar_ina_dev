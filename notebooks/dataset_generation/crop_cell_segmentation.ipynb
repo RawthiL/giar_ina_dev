{
 "cells": [
  {
   "cell_type": "markdown",
   "metadata": {},
   "source": [
    "# Cell crop\n",
    "\n",
    "This notebook uses both the outputs of cell_segmentation.ypynb and cell_area_analysis.ipynb to crop normalized cell images from the original images of the dataset"
   ]
  },
  {
   "cell_type": "markdown",
   "metadata": {},
   "source": [
    "### Imports"
   ]
  },
  {
   "cell_type": "code",
   "execution_count": 9,
   "metadata": {},
   "outputs": [],
   "source": [
    "import os\n",
    "import sys\n",
    "import json\n",
    "\n",
    "import cv2 as cv\n",
    "import pandas as pd\n",
    "from tqdm import tqdm\n",
    "\n",
    "sys.path.insert(0, \"../../packages/python\")\n",
    "from models import cell_segmentation as segmentators"
   ]
  },
  {
   "cell_type": "markdown",
   "metadata": {},
   "source": [
    "### Definitions"
   ]
  },
  {
   "cell_type": "code",
   "execution_count": null,
   "metadata": {},
   "outputs": [
    {
     "name": "stdout",
     "output_type": "stream",
     "text": [
      "\n"
     ]
    }
   ],
   "source": [
    "sys.path.insert(0, \"../../\")\n",
    "from config import MEDIA_PATH, TEMP_PATH\n",
    "\n",
    "IMG_TARGET_SIDE = 200\n",
    "\n",
    "# Dataset selection\n",
    "DATASET = 'onion_cell_merged' # Change this to 'onion_cell_merged' if needed\n",
    "DATASET_SECTION = 'test' # Change this to 'train', 'valida' or 'test' for onion_cell_merged dataset or empty for 'ina'\n",
    "\n",
    "# Specific paths\n",
    "IMAGES_PATH = os.path.join(MEDIA_PATH, f\"images/{DATASET}/images/{DATASET_SECTION}\")\n",
    "CSV_PATH = os.path.join(MEDIA_PATH, f\"cropped_images/{DATASET}/data/{DATASET_SECTION}\")\n",
    "CROPS_PATH = os.path.join(MEDIA_PATH, f\"cropped_images/{DATASET}/images/{DATASET_SECTION}\")\n",
    "JSON_PATH = os.path.join(TEMP_PATH, 'datasets_area_data.json')"
   ]
  },
  {
   "cell_type": "markdown",
   "metadata": {},
   "source": [
    "### List of elements to use"
   ]
  },
  {
   "cell_type": "code",
   "execution_count": 7,
   "metadata": {},
   "outputs": [],
   "source": [
    "csvs = sorted(os.listdir(CSV_PATH)) #Paths to the csv of SAM detections of each image\n",
    "images = sorted(os.listdir(IMAGES_PATH)) #full_images from where the crops are made\n",
    "with open(JSON_PATH, 'r') as f: #json with the information of the filename of the images\n",
    "    area_data = json.load(f)"
   ]
  },
  {
   "cell_type": "markdown",
   "metadata": {},
   "source": [
    "### Dataset generation"
   ]
  },
  {
   "cell_type": "code",
   "execution_count": 8,
   "metadata": {},
   "outputs": [
    {
     "name": "stderr",
     "output_type": "stream",
     "text": [
      "100%|██████████| 63/63 [00:04<00:00, 14.00it/s]\n"
     ]
    }
   ],
   "source": [
    "resize_factor = IMG_TARGET_SIDE/area_data['INA']['lado_cuadrado']\n",
    "\n",
    "if not os.path.exists(CROPS_PATH):\n",
    "    os.makedirs(CROPS_PATH)\n",
    "\n",
    "\n",
    "for image in tqdm(images):\n",
    " \n",
    "    image_name, image_type =  image.split('.')\n",
    "    image_group = image_name[0] if image_name[0].isalpha() else \"INA\" \n",
    "    image_side = area_data[image_group]['lado_cuadrado']\n",
    "    image_resize_factor = int(resize_factor * image_side)\n",
    "\n",
    "    img = cv.imread(os.path.join(IMAGES_PATH, image))\n",
    "\n",
    "    df = pd.read_csv(os.path.join(CSV_PATH, f\"{image_name}.csv\"))\n",
    "    df_bbox = df[df['image'] == image_name][['x', 'y', 'w', 'h', 'cell_id']]    \n",
    "\n",
    "    for _, row in df_bbox.iterrows():\n",
    "        cell_id = row['cell_id']    \n",
    "        x, y, w, h = row['x'], row['y'], row['w'], row['h']\n",
    "        x, y, w, h = segmentators.CellMaskGenerator.adjust_bbox(segmentators.CellMaskGenerator, x, y, w, h, image_resize_factor*image_resize_factor, img.shape[1], img.shape[0])\n",
    "\n",
    "        crop = cv.resize(img[y:y+h, x:x+w], (IMG_TARGET_SIDE, IMG_TARGET_SIDE))\n",
    "        output_path = os.path.join(CROPS_PATH, f\"{image_name}_{cell_id}.{image_type}\")\n",
    "        cv.imwrite(output_path, crop)\n",
    "\n",
    "\n",
    "                "
   ]
  },
  {
   "cell_type": "code",
   "execution_count": null,
   "metadata": {},
   "outputs": [],
   "source": []
  }
 ],
 "metadata": {
  "kernelspec": {
   "display_name": ".venv",
   "language": "python",
   "name": "python3"
  },
  "language_info": {
   "codemirror_mode": {
    "name": "ipython",
    "version": 3
   },
   "file_extension": ".py",
   "mimetype": "text/x-python",
   "name": "python",
   "nbconvert_exporter": "python",
   "pygments_lexer": "ipython3",
   "version": "3.12.3"
  }
 },
 "nbformat": 4,
 "nbformat_minor": 2
}
