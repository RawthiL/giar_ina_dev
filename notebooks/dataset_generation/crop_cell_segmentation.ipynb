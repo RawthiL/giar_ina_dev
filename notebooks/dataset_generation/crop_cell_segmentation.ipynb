{
 "cells": [
  {
   "cell_type": "markdown",
   "metadata": {},
   "source": [
    "# Cell crop\n",
    "\n",
    "This notebook uses both the outputs of cell_segmentation.ypynb and cell_area_analysis.ipynb to crop normalized cell images from the original images of the dataset"
   ]
  },
  {
   "cell_type": "markdown",
   "metadata": {},
   "source": [
    "### Imports"
   ]
  },
  {
   "cell_type": "code",
   "execution_count": 1,
   "metadata": {},
   "outputs": [
    {
     "name": "stderr",
     "output_type": "stream",
     "text": [
      "2025-06-08 16:40:38.299501: I tensorflow/core/util/port.cc:153] oneDNN custom operations are on. You may see slightly different numerical results due to floating-point round-off errors from different computation orders. To turn them off, set the environment variable `TF_ENABLE_ONEDNN_OPTS=0`.\n",
      "2025-06-08 16:40:38.306575: E external/local_xla/xla/stream_executor/cuda/cuda_fft.cc:467] Unable to register cuFFT factory: Attempting to register factory for plugin cuFFT when one has already been registered\n",
      "WARNING: All log messages before absl::InitializeLog() is called are written to STDERR\n",
      "E0000 00:00:1749411638.314582  185294 cuda_dnn.cc:8579] Unable to register cuDNN factory: Attempting to register factory for plugin cuDNN when one has already been registered\n",
      "E0000 00:00:1749411638.317055  185294 cuda_blas.cc:1407] Unable to register cuBLAS factory: Attempting to register factory for plugin cuBLAS when one has already been registered\n",
      "W0000 00:00:1749411638.324412  185294 computation_placer.cc:177] computation placer already registered. Please check linkage and avoid linking the same target more than once.\n",
      "W0000 00:00:1749411638.324423  185294 computation_placer.cc:177] computation placer already registered. Please check linkage and avoid linking the same target more than once.\n",
      "W0000 00:00:1749411638.324425  185294 computation_placer.cc:177] computation placer already registered. Please check linkage and avoid linking the same target more than once.\n",
      "W0000 00:00:1749411638.324425  185294 computation_placer.cc:177] computation placer already registered. Please check linkage and avoid linking the same target more than once.\n",
      "2025-06-08 16:40:38.326653: I tensorflow/core/platform/cpu_feature_guard.cc:210] This TensorFlow binary is optimized to use available CPU instructions in performance-critical operations.\n",
      "To enable the following instructions: AVX2 AVX_VNNI FMA, in other operations, rebuild TensorFlow with the appropriate compiler flags.\n"
     ]
    }
   ],
   "source": [
    "import os\n",
    "import sys\n",
    "import json\n",
    "\n",
    "import cv2 as cv\n",
    "import pandas as pd\n",
    "from tqdm import tqdm\n",
    "\n",
    "sys.path.insert(0, \"../../packages/python\")\n",
    "from models import cell_segmentation as segmentators"
   ]
  },
  {
   "cell_type": "markdown",
   "metadata": {},
   "source": [
    "### Definitions"
   ]
  },
  {
   "cell_type": "code",
   "execution_count": 2,
   "metadata": {},
   "outputs": [],
   "source": [
    "sys.path.insert(0, \"../../\")\n",
    "from config import DATASETS_PATH\n",
    "\n",
    "IMG_TARGET_SIDE = 200\n",
    "\n",
    "# Dataset selection\n",
    "# DATASET = 'ina' # Change this to 'onion_cell_merged' if needed\n",
    "# DATASET_SECTION = '' # Change this to 'train', 'valida' or 'test' for onion_cell_merged dataset or empty for 'ina'\n",
    "DATASET = 'onion_cell_merged'#'ina' # Change this to 'onion_cell_merged' if needed\n",
    "# DATASET_SECTION = 'test' # Change this to 'train', 'valida' or 'test' for 'onion_cell_merged', empty for 'ina'\n",
    "# DATASET_SECTION = 'train'\n",
    "DATASET_SECTION = 'valid'\n",
    "\n",
    "# Input paths\n",
    "IMAGES_PATH = os.path.join(DATASETS_PATH, \"full_fov\", DATASET, \"images\",DATASET_SECTION)\n",
    "CSV_PATH = os.path.join(DATASETS_PATH, \"cropped\", DATASET, \"data\", DATASET_SECTION)\n",
    "JSON_PATH = os.path.join(DATASETS_PATH, \"cropped\",'datasets_area_data.json')\n",
    "\n",
    "# Output paths\n",
    "CROPS_PATH = os.path.join(DATASETS_PATH, \"cropped\",DATASET,\"images\",DATASET_SECTION)\n",
    "\n",
    "\n",
    "\n",
    "\n",
    "                \n"
   ]
  },
  {
   "cell_type": "code",
   "execution_count": 3,
   "metadata": {},
   "outputs": [],
   "source": [
    "# sys.path.insert(0, \"../../\")\n",
    "# from config import MEDIA_PATH, TEMP_PATH\n",
    "\n",
    "# IMG_TARGET_SIDE = 200\n",
    "\n",
    "# # Dataset selection\n",
    "# DATASET = 'ina+' # Change this to 'onion_cell_merged' if needed\n",
    "# DATASET_SECTION = '' # Change this to 'train', 'valida' or 'test' for onion_cell_merged dataset or empty for 'ina'\n",
    "\n",
    "# # Specific paths\n",
    "# IMAGES_PATH = os.path.join(MEDIA_PATH, f\"images/{DATASET}/images/{DATASET_SECTION}\")\n",
    "# CSV_PATH = os.path.join(MEDIA_PATH, f\"cropped_images/{DATASET}/data/{DATASET_SECTION}\")\n",
    "# CROPS_PATH = os.path.join(MEDIA_PATH, f\"cropped_images/{DATASET}/images/{DATASET_SECTION}\")\n",
    "# JSON_PATH = os.path.join(TEMP_PATH, 'datasets_area_data.json')"
   ]
  },
  {
   "cell_type": "markdown",
   "metadata": {},
   "source": [
    "### List of elements to use"
   ]
  },
  {
   "cell_type": "code",
   "execution_count": 4,
   "metadata": {},
   "outputs": [],
   "source": [
    "csvs = sorted(os.listdir(CSV_PATH)) #Paths to the csv of SAM detections of each image\n",
    "images = sorted(os.listdir(IMAGES_PATH)) #full_images from where the crops are made\n",
    "with open(JSON_PATH, 'r') as f: #json with the information of the filename of the images\n",
    "    area_data = json.load(f)"
   ]
  },
  {
   "cell_type": "code",
   "execution_count": 5,
   "metadata": {},
   "outputs": [
    {
     "data": {
      "text/plain": [
       "dict_keys(['ina_sam', 'onion_cell_merged'])"
      ]
     },
     "execution_count": 5,
     "metadata": {},
     "output_type": "execute_result"
    }
   ],
   "source": [
    "area_data.keys()"
   ]
  },
  {
   "cell_type": "code",
   "execution_count": 6,
   "metadata": {},
   "outputs": [
    {
     "data": {
      "text/plain": [
       "dict_keys(['Abril2023'])"
      ]
     },
     "execution_count": 6,
     "metadata": {},
     "output_type": "execute_result"
    }
   ],
   "source": [
    "area_data['ina_sam'].keys()"
   ]
  },
  {
   "cell_type": "code",
   "execution_count": 7,
   "metadata": {},
   "outputs": [
    {
     "data": {
      "text/plain": [
       "dict_keys(['A', 'B', 'C', 'D', 'E', 'F'])"
      ]
     },
     "execution_count": 7,
     "metadata": {},
     "output_type": "execute_result"
    }
   ],
   "source": [
    "area_data['onion_cell_merged'].keys()"
   ]
  },
  {
   "cell_type": "code",
   "execution_count": 8,
   "metadata": {},
   "outputs": [
    {
     "data": {
      "text/plain": [
       "dict_keys(['area_promedio', 'lado_cuadrado', 'diff_area', 'dif_lado'])"
      ]
     },
     "execution_count": 8,
     "metadata": {},
     "output_type": "execute_result"
    }
   ],
   "source": [
    "area_data['onion_cell_merged']['A'].keys()"
   ]
  },
  {
   "cell_type": "markdown",
   "metadata": {},
   "source": [
    "### Dataset generation"
   ]
  },
  {
   "cell_type": "code",
   "execution_count": 9,
   "metadata": {},
   "outputs": [],
   "source": [
    "# resize_factor = IMG_TARGET_SIDE/area_data['INA']['lado_cuadrado']\n",
    "\n",
    "# if not os.path.exists(CROPS_PATH):\n",
    "#     os.makedirs(CROPS_PATH)\n",
    "\n",
    "\n",
    "# for image in tqdm(images):\n",
    " \n",
    "#     image_name, image_type =  image.split('.')\n",
    "#     image_group = image_name[0] if image_name[0].isalpha() else \"INA\" \n",
    "#     image_side = area_data[image_group]['lado_cuadrado']\n",
    "#     image_resize_factor = int(resize_factor * image_side)\n",
    "\n",
    "#     img = cv.imread(os.path.join(IMAGES_PATH, image))\n",
    "\n",
    "#     df = pd.read_csv(os.path.join(CSV_PATH, f\"{image_name}.csv\"))\n",
    "#     df_bbox = df[df['image'] == image_name][['x', 'y', 'w', 'h', 'cell_id']]    \n",
    "\n",
    "#     for _, row in df_bbox.iterrows():\n",
    "#         cell_id = row['cell_id']    \n",
    "#         x, y, w, h = row['x'], row['y'], row['w'], row['h']\n",
    "#         x, y, w, h = segmentators.CellMaskGenerator.adjust_bbox(segmentators.CellMaskGenerator, x, y, w, h, image_resize_factor*image_resize_factor, img.shape[1], img.shape[0])\n",
    "\n",
    "#         crop = cv.resize(img[y:y+h, x:x+w], (IMG_TARGET_SIDE, IMG_TARGET_SIDE))\n",
    "#         output_path = os.path.join(CROPS_PATH, f\"{image_name}_{cell_id}.png\")\n",
    "#         cv.imwrite(output_path, crop)\n",
    "\n",
    "\n",
    "                "
   ]
  },
  {
   "cell_type": "code",
   "execution_count": 10,
   "metadata": {},
   "outputs": [
    {
     "name": "stderr",
     "output_type": "stream",
     "text": [
      "100%|██████████| 129/129 [00:07<00:00, 16.29it/s]\n"
     ]
    }
   ],
   "source": [
    "\n",
    "\n",
    "resize_factor = IMG_TARGET_SIDE/area_data['ina_sam'][\"Abril2023\"]['lado_cuadrado']\n",
    "\n",
    "if not os.path.exists(CROPS_PATH):\n",
    "    os.makedirs(CROPS_PATH)\n",
    "\n",
    "\n",
    "for image in tqdm(images):\n",
    " \n",
    "    image_name, image_type =  image.split('.')\n",
    "    if DATASET == \"ina\":\n",
    "        image_group = \"Abril2023\" \n",
    "    elif DATASET == \"onion_cell_merged\":\n",
    "        image_group = image_name[0]\n",
    "    else:\n",
    "        raise ValueError(f\"Unknown dataset {DATASET}\")\n",
    "    image_side = area_data[DATASET][image_group]['lado_cuadrado']\n",
    "    image_resize_factor = int(resize_factor * image_side)\n",
    "\n",
    "    img = cv.imread(os.path.join(IMAGES_PATH, image))\n",
    "\n",
    "    df = pd.read_csv(os.path.join(CSV_PATH, f\"{image_name}.csv\"))\n",
    "    df_bbox = df[df['image'] == image_name][['x', 'y', 'w', 'h', 'cell_id']]    \n",
    "\n",
    "    for _, row in df_bbox.iterrows():\n",
    "        cell_id = row['cell_id']    \n",
    "        x, y, w, h = row['x'], row['y'], row['w'], row['h']\n",
    "        x, y, w, h = segmentators.CellMaskGenerator.adjust_bbox(segmentators.CellMaskGenerator, x, y, w, h, image_resize_factor*image_resize_factor, img.shape[1], img.shape[0])\n",
    "\n",
    "        crop = cv.resize(img[y:y+h, x:x+w], (IMG_TARGET_SIDE, IMG_TARGET_SIDE))\n",
    "        output_path = os.path.join(CROPS_PATH, f\"{image_name}_{cell_id}.png\")\n",
    "        cv.imwrite(output_path, crop)\n",
    "\n"
   ]
  }
 ],
 "metadata": {
  "kernelspec": {
   "display_name": ".venv",
   "language": "python",
   "name": "python3"
  },
  "language_info": {
   "codemirror_mode": {
    "name": "ipython",
    "version": 3
   },
   "file_extension": ".py",
   "mimetype": "text/x-python",
   "name": "python",
   "nbconvert_exporter": "python",
   "pygments_lexer": "ipython3",
   "version": "3.12.3"
  }
 },
 "nbformat": 4,
 "nbformat_minor": 2
}
