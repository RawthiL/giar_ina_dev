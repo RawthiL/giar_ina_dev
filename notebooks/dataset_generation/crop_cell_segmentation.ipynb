{
 "cells": [
  {
   "cell_type": "markdown",
   "metadata": {},
   "source": [
    "# classification_dataset"
   ]
  },
  {
   "cell_type": "markdown",
   "metadata": {},
   "source": [
    "### Imports"
   ]
  },
  {
   "cell_type": "code",
   "execution_count": 6,
   "metadata": {},
   "outputs": [
    {
     "name": "stderr",
     "output_type": "stream",
     "text": [
      "2025-04-17 19:19:44.048886: I tensorflow/core/util/port.cc:153] oneDNN custom operations are on. You may see slightly different numerical results due to floating-point round-off errors from different computation orders. To turn them off, set the environment variable `TF_ENABLE_ONEDNN_OPTS=0`.\n",
      "2025-04-17 19:19:44.054900: E external/local_xla/xla/stream_executor/cuda/cuda_fft.cc:477] Unable to register cuFFT factory: Attempting to register factory for plugin cuFFT when one has already been registered\n",
      "WARNING: All log messages before absl::InitializeLog() is called are written to STDERR\n",
      "E0000 00:00:1744928384.061810   30624 cuda_dnn.cc:8310] Unable to register cuDNN factory: Attempting to register factory for plugin cuDNN when one has already been registered\n",
      "E0000 00:00:1744928384.063883   30624 cuda_blas.cc:1418] Unable to register cuBLAS factory: Attempting to register factory for plugin cuBLAS when one has already been registered\n",
      "2025-04-17 19:19:44.071551: I tensorflow/core/platform/cpu_feature_guard.cc:210] This TensorFlow binary is optimized to use available CPU instructions in performance-critical operations.\n",
      "To enable the following instructions: AVX2 AVX512F AVX512_VNNI AVX512_BF16 AVX_VNNI FMA, in other operations, rebuild TensorFlow with the appropriate compiler flags.\n"
     ]
    }
   ],
   "source": [
    "import pandas as pd\n",
    "import numpy as np\n",
    "import os\n",
    "import sys\n",
    "from tqdm import tqdm\n",
    "import cv2 as cv\n",
    "import json\n",
    "\n",
    "sys.path.insert(0, \"../../packages/python\")\n",
    "from models import cell_segmentation as segmentators"
   ]
  },
  {
   "cell_type": "markdown",
   "metadata": {},
   "source": [
    "### Definitions"
   ]
  },
  {
   "cell_type": "code",
   "execution_count": 34,
   "metadata": {},
   "outputs": [],
   "source": [
    "CSV_PATH = '../../output/cropped_cells_onion_v3/data/valid/'\n",
    "CROPS_PATH = '../../output/cropped_cells_onion_v3/media/valid/'\n",
    "IMAGES_PATH = '../../media/Onion-Cell-Merged-v6.v1i.coco/valid/'\n",
    "JSON_PATH = '../../temp/datasets_area_data.json'\n",
    "OUTPUT_PATH = '../../output/cropped_cells_onion_v4/media/valid/'\n",
    "IMG_SIDE = 200\n"
   ]
  },
  {
   "cell_type": "markdown",
   "metadata": {},
   "source": [
    "### List of elements to use"
   ]
  },
  {
   "cell_type": "code",
   "execution_count": 35,
   "metadata": {},
   "outputs": [],
   "source": [
    "csvs = sorted(os.listdir(CSV_PATH)) #Paths to the csv of SAM detections of each image\n",
    "crops = sorted(os.listdir(CROPS_PATH)) #Paths to the crops made from SAM detection of the full_images\n",
    "images = sorted(os.listdir(IMAGES_PATH)) #full_images from where the crops are made\n",
    "with open(JSON_PATH, 'r') as f: #json with the information of the filename of the images\n",
    "    area_data = json.load(f)"
   ]
  },
  {
   "cell_type": "markdown",
   "metadata": {},
   "source": [
    "### Dataset generation"
   ]
  },
  {
   "cell_type": "code",
   "execution_count": 36,
   "metadata": {},
   "outputs": [
    {
     "name": "stderr",
     "output_type": "stream",
     "text": [
      "100%|██████████| 129/129 [00:08<00:00, 15.55it/s]\n"
     ]
    }
   ],
   "source": [
    "resize_factor = IMG_SIDE/area_data['INA']['lado_cuadrado']\n",
    "\n",
    "for image in tqdm(images):\n",
    " \n",
    "    try:\n",
    "        image_name, image_type =  image.split('.')\n",
    "    except Exception as e: \n",
    "\n",
    "        print(image, e)\n",
    "        continue\n",
    "    image_group = image_name[0] if image_name[0].isalpha() else \"INA\" \n",
    "    image_side = area_data[image_group]['lado_cuadrado']\n",
    "    image_resize_factor = int(resize_factor * image_side)\n",
    "\n",
    "    img = cv.imread(os.path.join(IMAGES_PATH, image))\n",
    "\n",
    "    df = pd.read_csv(os.path.join(CSV_PATH, f\"{image_name}.csv\"))\n",
    "    df_bbox = df[df['image'] == image][['x', 'y', 'w', 'h', 'cell_id']]    \n",
    "\n",
    "    for _, row in df_bbox.iterrows():\n",
    "        cell_id = row['cell_id']    \n",
    "        x, y, w, h = row['x'], row['y'], row['w'], row['h']\n",
    "        x, y, w, h = segmentators.CellMaskGenerator.adjust_bbox(segmentators.CellMaskGenerator, x, y, w, h, image_resize_factor*image_resize_factor, img.shape[1], img.shape[0])\n",
    "\n",
    "        crop = cv.resize(img[y:y+h, x:x+w], (IMG_SIDE, IMG_SIDE))\n",
    "        output_path = os.path.join(OUTPUT_PATH, f\"{image_name}_{cell_id}.{image_type}\")\n",
    "        cv.imwrite(output_path, crop)\n",
    "\n",
    "\n",
    "\n",
    "\n",
    "\n",
    "                "
   ]
  },
  {
   "cell_type": "code",
   "execution_count": null,
   "metadata": {},
   "outputs": [],
   "source": []
  }
 ],
 "metadata": {
  "kernelspec": {
   "display_name": ".venv",
   "language": "python",
   "name": "python3"
  },
  "language_info": {
   "codemirror_mode": {
    "name": "ipython",
    "version": 3
   },
   "file_extension": ".py",
   "mimetype": "text/x-python",
   "name": "python",
   "nbconvert_exporter": "python",
   "pygments_lexer": "ipython3",
   "version": "3.12.3"
  }
 },
 "nbformat": 4,
 "nbformat_minor": 2
}
