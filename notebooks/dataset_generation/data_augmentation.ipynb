{
  "cells": [
    {
      "cell_type": "markdown",
      "id": "4c7043ba",
      "metadata": {},
      "source": [
        "# Data augmentation\n",
        "The images generated from detection_dataset are used to augment the labeled dataset"
      ]
    },
    {
      "cell_type": "markdown",
      "id": "1f3f551a",
      "metadata": {},
      "source": [
        "### Imports"
      ]
    },
    {
      "cell_type": "code",
      "execution_count": 5,
      "id": "33103c26-2088-4b03-a469-612446e7f941",
      "metadata": {
        "colab": {
          "base_uri": "https://localhost:8080/"
        },
        "id": "33103c26-2088-4b03-a469-612446e7f941",
        "outputId": "d559f8dc-755d-4d39-f5d3-9b66f02a9a33"
      },
      "outputs": [
        {
          "name": "stderr",
          "output_type": "stream",
          "text": [
            "/tmp/ipykernel_42937/646059143.py:9: DeprecationWarning: Please import `gaussian_filter` from the `scipy.ndimage` namespace; the `scipy.ndimage.filters` namespace is deprecated and will be removed in SciPy 2.0.0.\n",
            "  from scipy.ndimage.filters import gaussian_filter\n",
            "/tmp/ipykernel_42937/646059143.py:10: DeprecationWarning: Please import `map_coordinates` from the `scipy.ndimage` namespace; the `scipy.ndimage.interpolation` namespace is deprecated and will be removed in SciPy 2.0.0.\n",
            "  from scipy.ndimage.interpolation import map_coordinates\n"
          ]
        }
      ],
      "source": [
        "import os\n",
        "import random\n",
        "import sys\n",
        "\n",
        "import cv2\n",
        "import numpy as np\n",
        "from tqdm import tqdm\n",
        "from PIL import Image, ImageEnhance, ImageOps\n",
        "from scipy.ndimage.filters import gaussian_filter\n",
        "from scipy.ndimage.interpolation import map_coordinates"
      ]
    },
    {
      "cell_type": "markdown",
      "id": "1b03a8b4",
      "metadata": {},
      "source": [
        "### Definitions"
      ]
    },
    {
      "cell_type": "code",
      "execution_count": 6,
      "id": "c01daaba",
      "metadata": {},
      "outputs": [],
      "source": [
        "sys.path.insert(0, \"../../\")\n",
        "from config import CROPPED_PATH\n",
        "\n",
        "# Paths\n",
        "DATASET_PATH = os.path.join(CROPPED_PATH, 'ina', 'labeled_images', 'VGG16_kmeans_v0', 'train', 'not') # Run again for 'not' dataset"
      ]
    },
    {
      "cell_type": "markdown",
      "id": "UC1Q9vYyLk1O",
      "metadata": {
        "id": "UC1Q9vYyLk1O"
      },
      "source": [
        "### Functions"
      ]
    },
    {
      "cell_type": "code",
      "execution_count": 7,
      "id": "4QgXs129EDHT",
      "metadata": {
        "colab": {
          "base_uri": "https://localhost:8080/",
          "height": 884
        },
        "id": "4QgXs129EDHT",
        "outputId": "787e33ee-4e6c-47d1-8d13-955387120206"
      },
      "outputs": [],
      "source": [
        "# Función para añadir ruido a la imagen\n",
        "def add_noise(image):\n",
        "    np_image = np.array(image)\n",
        "    ruido = np.random.normal(10, 25, np_image.shape).astype(np.int32)  # Nivel de ruido\n",
        "    noisy_image = np.clip(np_image + ruido, 0, 255).astype(np.uint8)  # Asegurar valores válidos\n",
        "    return Image.fromarray(noisy_image)\n",
        "\n",
        "# Función para deformación elástica\n",
        "def elastic_transform(image):\n",
        "    \"\"\"Elastic deformation of images as described in [Simard2003]_ (with modifications).\n",
        "    \"\"\"\n",
        "    image = np.array(image)\n",
        "    alpha = image.shape[1] * 2\n",
        "    sigma = image.shape[1] * 0.08\n",
        "    alpha_affine = image.shape[1] * 0.08\n",
        "\n",
        "    shape = image.shape\n",
        "    shape_size = shape[:2]\n",
        "    random_state = np.random.RandomState(None)\n",
        "\n",
        "    # Random affine\n",
        "    center_square = np.float32(shape_size) // 2\n",
        "    square_size = min(shape_size) // 3\n",
        "    pts1 = np.float32([center_square + square_size,\n",
        "                       [center_square[0]+square_size, center_square[1]-square_size],\n",
        "                       center_square - square_size])\n",
        "    pts2 = pts1 + random_state.uniform(-alpha_affine, alpha_affine, size=pts1.shape).astype(np.float32)\n",
        "    M = cv2.getAffineTransform(pts1, pts2)\n",
        "    image = cv2.warpAffine(image, M, shape_size[::-1], borderMode=cv2.BORDER_REFLECT_101)\n",
        "\n",
        "    # Elastic deformation (Gaussian noise)\n",
        "    dx = gaussian_filter((random_state.rand(*shape) * 2 - 1), sigma) * alpha\n",
        "    dy = gaussian_filter((random_state.rand(*shape) * 2 - 1), sigma) * alpha\n",
        "    dz = np.zeros_like(dx)\n",
        "\n",
        "    x, y, z = np.meshgrid(np.arange(shape[1]), np.arange(shape[0]), np.arange(shape[2]))\n",
        "    indices = np.reshape(y+dy, (-1, 1)), np.reshape(x+dx, (-1, 1)), np.reshape(z, (-1, 1))\n",
        "\n",
        "    # Apply elastic deformation\n",
        "    deformed_image = map_coordinates(image, indices, order=1, mode='reflect').reshape(shape)\n",
        "\n",
        "    # Convert back to PIL Image\n",
        "    deformed_image_pil = Image.fromarray(deformed_image.astype(np.uint8))\n",
        "\n",
        "    return deformed_image_pil\n",
        "\n",
        "# Aplicar todas las transformaciones juntas\n",
        "def augment_image(image):\n",
        "    augmented_image = image\n",
        "\n",
        "    # 1. Volteo horizontal\n",
        "    augmented_image = ImageOps.mirror(augmented_image)\n",
        "\n",
        "    # 2. Volteo vertical\n",
        "    augmented_image = ImageOps.flip(augmented_image)\n",
        "\n",
        "    # 3. Ajuste de brillo (ajuste más sutil)\n",
        "    enhancer = ImageEnhance.Brightness(augmented_image)\n",
        "    brightness_factor = random.uniform(0.5, 1.5)  # Antes: (0.6, 1.8)\n",
        "    augmented_image = enhancer.enhance(0.5)\n",
        "\n",
        "    # 4. Ajuste de contraste (ajuste más sutil)\n",
        "    enhancer = ImageEnhance.Contrast(augmented_image)\n",
        "    contrast_factor = random.uniform(0.5, 1.5)  # Antes: (0.6, 1.8)\n",
        "    augmented_image = enhancer.enhance(contrast_factor)\n",
        "\n",
        "     # 5. Cambio de saturación (ajuste más sutil)\n",
        "    enhancer = ImageEnhance.Color(augmented_image)\n",
        "    saturation_factor = random.uniform(0.5, 1.5)  # Ajuste sutil\n",
        "    augmented_image = enhancer.enhance(saturation_factor)\n",
        "\n",
        "    # 6. Añadir ruido (menos probabilidad de aplicarlo)\n",
        "    #if random.random() < 0.5:  # 50% de probabilidad\n",
        "    augmented_image = add_noise(augmented_image)\n",
        "\n",
        "    # 7. Aplicar deformación elástica (probabilidad de aplicarla)\n",
        "    #if random.random() < 0.:  # 30% de probabilidad\n",
        "    augmented_image = elastic_transform(augmented_image)\n",
        "\n",
        "    return augmented_image\n",
        "\n",
        "def generar_nombre(imagen_original):\n",
        "    nombre, ext = os.path.splitext(imagen_original)\n",
        "    return f\"{nombre}_aug{ext}\""
      ]
    },
    {
      "cell_type": "markdown",
      "id": "e10be739-aab1-458e-baa1-99b9beb253b2",
      "metadata": {
        "id": "e10be739-aab1-458e-baa1-99b9beb253b2"
      },
      "source": [
        "### Augmentation"
      ]
    },
    {
      "cell_type": "code",
      "execution_count": 8,
      "id": "d4030b97-dd09-4f58-a842-8e7dfe47ebea",
      "metadata": {
        "id": "d4030b97-dd09-4f58-a842-8e7dfe47ebea"
      },
      "outputs": [
        {
          "name": "stderr",
          "output_type": "stream",
          "text": [
            "100%|██████████| 3500/3500 [01:29<00:00, 38.91it/s]"
          ]
        },
        {
          "name": "stdout",
          "output_type": "stream",
          "text": [
            "Se han generado 3500 imagenes.\n"
          ]
        },
        {
          "name": "stderr",
          "output_type": "stream",
          "text": [
            "\n"
          ]
        }
      ],
      "source": [
        "# Directorio del dataset\n",
        "save_path = DATASET_PATH\n",
        "\n",
        "if not os.path.exists(DATASET_PATH):\n",
        "    raise FileNotFoundError(f\"El directorio {DATASET_PATH} no existe.\")\n",
        "\n",
        "imagenes_originales = [\n",
        "    file_name for file_name in os.listdir(DATASET_PATH)\n",
        "    if file_name.lower().endswith(('.png', '.jpg', '.jpeg'))\n",
        "]\n",
        "\n",
        "# Determinar la cantidad máxima de imágenes aumentadas\n",
        "cantidad_aumentadas = int(len(imagenes_originales) * 1)  # Hasta el 70%\n",
        "contador = 0\n",
        "\n",
        "\n",
        "for file_name in tqdm(random.sample(imagenes_originales, cantidad_aumentadas)):  # Selección aleatoria\n",
        "    file_path = os.path.join(DATASET_PATH, file_name)\n",
        "\n",
        "    with Image.open(file_path) as img:\n",
        "        # Aplicar augmentations\n",
        "        augmented_image = augment_image(img)\n",
        "\n",
        "        # Guardar la imagen\n",
        "        nuevo_nombre = generar_nombre(file_name)\n",
        "        nuevo_path = os.path.join(save_path, nuevo_nombre)\n",
        "        augmented_image.save(nuevo_path)\n",
        "        contador += 1\n",
        "\n",
        "print(f\"Se han generado {contador} imagenes.\")"
      ]
    }
  ],
  "metadata": {
    "colab": {
      "provenance": []
    },
    "kernelspec": {
      "display_name": ".venv",
      "language": "python",
      "name": "python3"
    },
    "language_info": {
      "codemirror_mode": {
        "name": "ipython",
        "version": 3
      },
      "file_extension": ".py",
      "mimetype": "text/x-python",
      "name": "python",
      "nbconvert_exporter": "python",
      "pygments_lexer": "ipython3",
      "version": "3.12.3"
    }
  },
  "nbformat": 4,
  "nbformat_minor": 5
}
