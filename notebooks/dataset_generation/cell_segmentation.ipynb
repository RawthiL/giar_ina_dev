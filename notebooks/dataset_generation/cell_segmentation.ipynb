{
 "cells": [
  {
   "cell_type": "markdown",
   "metadata": {},
   "source": [
    "# Cell Segmentation\n",
    "\n",
    "This notebook uses SAM to segment the given images and stores the segmentation information in a csv file for each image\n",
    "\n",
    "## Segment Anything Model (SAM)\n",
    "\n",
    "Download checkpoint files here: https://pypi.org/project/segment-anything-py/#model-checkpoints\n",
    "\n",
    "This models requieres 16 GB of RAM (or VRAM) to work.\n"
   ]
  },
  {
   "cell_type": "markdown",
   "metadata": {},
   "source": [
    "### Imports"
   ]
  },
  {
   "cell_type": "code",
   "execution_count": 15,
   "metadata": {},
   "outputs": [],
   "source": [
    "import os\n",
    "import sys\n",
    "os.environ[\"CUDA_DEVICE_ORDER\"]=\"PCI_BUS_ID\"   # see issue #152\n",
    "os.environ[\"CUDA_VISIBLE_DEVICES\"]=\"0\" # If you have more than one GPU, use this to select the one you want to use\n",
    "\n",
    "\n",
    "import cv2\n",
    "import numpy as np\n",
    "import pandas as pd\n",
    "import albumentations as A\n",
    "from tqdm import tqdm\n",
    "from matplotlib import pyplot as plt\n",
    "from PIL import Image\n",
    "\n",
    "sys.path.insert(0, \"../../packages/python\")\n",
    "from data import utils as data_utils\n",
    "from data import augmentation as data_augmentation\n",
    "from models import cell_segmentation as segmentators"
   ]
  },
  {
   "cell_type": "code",
   "execution_count": 16,
   "metadata": {},
   "outputs": [
    {
     "name": "stdout",
     "output_type": "stream",
     "text": [
      "GPU Available: [PhysicalDevice(name='/physical_device:GPU:0', device_type='GPU')]\n",
      "cuDNN Enabled: True\n"
     ]
    }
   ],
   "source": [
    "import tensorflow as tf\n",
    "print(\"GPU Available:\", tf.config.list_physical_devices('GPU'))\n",
    "print(\"cuDNN Enabled:\", tf.test.is_built_with_cuda())"
   ]
  },
  {
   "cell_type": "markdown",
   "metadata": {},
   "source": [
    "### Global definitions"
   ]
  },
  {
   "cell_type": "code",
   "execution_count": 17,
   "metadata": {},
   "outputs": [],
   "source": [
    "sys.path.insert(0, \"../../\")\n",
    "from config import MODELS_PATH, CROPPED_PATH, MEDIA_PATH\n",
    "\n",
    "# Specific paths\n",
    "SAM_CHECKPOINT_PATH = os.path.join(MODELS_PATH, \"sam/sam_vit_h_4b8939.pth\")\n",
    "\n",
    "# Select the devicce: \n",
    "# \"cuda\" : Will use the NVIDIA GPU\n",
    "# \"cpu\" : Will use the... CPU\n",
    "DEVICE_USE = \"cuda\""
   ]
  },
  {
   "cell_type": "markdown",
   "metadata": {},
   "source": [
    "### Load SAM model"
   ]
  },
  {
   "cell_type": "code",
   "execution_count": 18,
   "metadata": {},
   "outputs": [
    {
     "name": "stderr",
     "output_type": "stream",
     "text": [
      "FutureWarning: You are using `torch.load` with `weights_only=False` (the current default value), which uses the default pickle module implicitly. It is possible to construct malicious pickle data which will execute arbitrary code during unpickling (See https://github.com/pytorch/pytorch/blob/main/SECURITY.md#untrusted-models for more details). In a future release, the default value for `weights_only` will be flipped to `True`. This limits the functions that could be executed during unpickling. Arbitrary objects will no longer be allowed to be loaded via this mode unless they are explicitly allowlisted by the user via `torch.serialization.add_safe_globals`. We recommend you start setting `weights_only=True` for any use case where you don't have full control of the loaded file. Please open an issue on GitHub for any issues related to this experimental feature.\n"
     ]
    }
   ],
   "source": [
    "cmg = segmentators.SAMCellMaskGenerator(SAM_CHECKPOINT_PATH, model_type = 'vit_h', device = DEVICE_USE)"
   ]
  },
  {
   "cell_type": "markdown",
   "metadata": {},
   "source": [
    "### Apply segmentation to the whole\n",
    "Using SAM to segment the images in IMAGE_PATH the output will be stored in separeted csv files in CSV_PATH"
   ]
  },
  {
   "cell_type": "code",
   "execution_count": 19,
   "metadata": {},
   "outputs": [],
   "source": [
    "# Dataset selection\n",
    "DATASET = 'ina'#'ina' # Change this to 'onion_cell_merged' if needed\n",
    "DATASET_SECTION = '' # Change this to 'train', 'valida' or 'test' for 'onion_cell_merged', empty for 'ina'\n",
    "\n",
    "IMAGE_PATH = os.path.join(MEDIA_PATH, 'images', DATASET, 'images', DATASET_SECTION)\n",
    "CSV_PATH = os.path.join(CROPPED_PATH, DATASET, 'data', DATASET_SECTION)"
   ]
  },
  {
   "cell_type": "code",
   "execution_count": null,
   "metadata": {},
   "outputs": [
    {
     "name": "stderr",
     "output_type": "stream",
     "text": [
      " 35%|███▌      | 139/392 [4:19:41<4:37:58, 65.92s/it] "
     ]
    }
   ],
   "source": [
    "# Apply segmentation to the whole\n",
    "data_utils.dataset_cell_segmentation(cmg, IMAGE_PATH, CSV_PATH)"
   ]
  },
  {
   "cell_type": "code",
   "execution_count": 14,
   "metadata": {},
   "outputs": [
    {
     "data": {
      "text/plain": [
       "'/home/jcibeira/INA/giar_ina_dev/media/cropped_images/ina/data/'"
      ]
     },
     "execution_count": 14,
     "metadata": {},
     "output_type": "execute_result"
    }
   ],
   "source": [
    "CSV_PATH"
   ]
  },
  {
   "cell_type": "code",
   "execution_count": null,
   "metadata": {},
   "outputs": [],
   "source": []
  }
 ],
 "metadata": {
  "kernelspec": {
   "display_name": ".venv",
   "language": "python",
   "name": "python3"
  },
  "language_info": {
   "codemirror_mode": {
    "name": "ipython",
    "version": 3
   },
   "file_extension": ".py",
   "mimetype": "text/x-python",
   "name": "python",
   "nbconvert_exporter": "python",
   "pygments_lexer": "ipython3",
   "version": "3.12.3"
  }
 },
 "nbformat": 4,
 "nbformat_minor": 2
}
