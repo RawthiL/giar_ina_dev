{
 "cells": [
  {
   "cell_type": "code",
   "execution_count": null,
   "metadata": {},
   "outputs": [],
   "source": [
    "import json\n",
    "import argparse\n",
    "import cv2 as cv\n",
    "import os\n",
    "import numpy as np\n",
    "from pathlib import Path\n",
    "from pycocotools import mask as mask_utils\n",
    "import csv\n",
    "from segmentation_labels_coco import get_image_and_mask, generate_annotations_for_image, filter_cells_by_area, crop_image_from_annotation, transform_crop, save_cropped_images, save_json_and_csv, transform_images_to_white"
   ]
  },
  {
   "cell_type": "code",
   "execution_count": null,
   "metadata": {},
   "outputs": [],
   "source": [
    "# Insert the path to the input, target and output folders (required)\n",
    "input_path = \"\"\n",
    "target_path = \"\"\n",
    "output_path = \"\"\n",
    "\n",
    "# Set the parameters for the segmentation\n",
    "padding = 15\n",
    "threshold = 50\n",
    "save_reviewed = True"
   ]
  },
  {
   "cell_type": "markdown",
   "metadata": {},
   "source": [
    "annotations = []\n",
    "annotation_id = 1\n",
    "\n",
    "for image_id, image_file in enumerate(input_path.iterdir(), start=1):\n",
    "    if image_file.suffix not in [\".png\", \".jpg\", \".jpeg\"]:\n",
    "        continue\n",
    "\n",
    "    mask_file = target_path / image_file.name\n",
    "    if not mask_file.exists():\n",
    "        continue\n",
    "\n",
    "    image, mask = get_image_and_mask(image_file, mask_file)\n",
    "\n",
    "    image_annotations, annotation_id = generate_annotations_for_image(\n",
    "        image, mask, image_file, image_id, annotation_id, padding\n",
    "    )\n",
    "\n",
    "    annotations.extend(image_annotations)"
   ]
  },
  {
   "cell_type": "code",
   "execution_count": null,
   "metadata": {},
   "outputs": [],
   "source": [
    "annotations = filter_cells_by_area(annotations, threshold)"
   ]
  },
  {
   "cell_type": "code",
   "execution_count": null,
   "metadata": {},
   "outputs": [],
   "source": [
    "annotations_processed = []\n",
    "\n",
    "for annotation in annotations:\n",
    "    cropped_mask, _, target_crop_name = crop_image_from_annotation(annotation)\n",
    "    _, review_required = transform_crop(cropped_mask, target_crop_name)\n",
    "    if review_required and not save_reviewed:\n",
    "        continue\n",
    "    annotation['review_required'] = review_required\n",
    "    annotations_processed.append(annotation)"
   ]
  },
  {
   "cell_type": "code",
   "execution_count": null,
   "metadata": {},
   "outputs": [],
   "source": [
    "for annotation in annotations_processed:\n",
    "    cropped_mask, cropped_image, target_crop_name = crop_image_from_annotation(annotation)\n",
    "    save_cropped_images(output_path, cropped_mask, cropped_image, target_crop_name)"
   ]
  },
  {
   "cell_type": "code",
   "execution_count": null,
   "metadata": {},
   "outputs": [],
   "source": [
    "save_json_and_csv(annotations_processed, output_path)"
   ]
  },
  {
   "cell_type": "code",
   "execution_count": null,
   "metadata": {},
   "outputs": [],
   "source": [
    "transform_images_to_white(output_path / \"target\")"
   ]
  }
 ],
 "metadata": {
  "language_info": {
   "name": "python"
  }
 },
 "nbformat": 4,
 "nbformat_minor": 2
}
