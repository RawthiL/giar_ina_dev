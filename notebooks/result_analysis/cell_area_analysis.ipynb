{
 "cells": [
  {
   "cell_type": "markdown",
   "id": "609d720a",
   "metadata": {},
   "source": [
    "# Cell area analysis\n",
    "\n",
    "This notebook makes an analysis of the area of cropped individual cells using the output of cell_segmentation.ipynb\n"
   ]
  },
  {
   "cell_type": "code",
   "execution_count": null,
   "id": "bded2874",
   "metadata": {},
   "outputs": [],
   "source": [
    "#TODO: Add code"
   ]
  }
 ],
 "metadata": {
  "language_info": {
   "name": "python"
  }
 },
 "nbformat": 4,
 "nbformat_minor": 5
}
