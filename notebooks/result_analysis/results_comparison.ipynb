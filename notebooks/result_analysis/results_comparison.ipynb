{
 "cells": [
  {
   "cell_type": "code",
   "execution_count": 1,
   "metadata": {},
   "outputs": [],
   "source": [
    "import os\n",
    "import pandas as pd\n",
    "import numpy as np\n",
    "from matplotlib import pyplot as plt\n",
    "import itertools\n",
    "from sklearn.metrics import confusion_matrix, accuracy_score, precision_score, recall_score"
   ]
  },
  {
   "cell_type": "code",
   "execution_count": 2,
   "metadata": {},
   "outputs": [],
   "source": [
    "RESULTS_FOLDER = \"/home/lucas/code/LucasMareque/projects/ina_utn/Modelos/evaluated\"\n",
    "\n",
    "# Remove effect of incopmplete tags (just for testing the classifiers)\n",
    "REMOVE_MISSING_LABELS = True  # Set this to true to remove all entities not asssociated to a manually tagged instance\n",
    "REMOVE_MISSING_SAM = True"
   ]
  },
  {
   "cell_type": "code",
   "execution_count": 3,
   "metadata": {},
   "outputs": [
    {
     "name": "stdout",
     "output_type": "stream",
     "text": [
      "Copy of model_Encoder_SSIM+MAE0 -- True Rate: 0.93\n"
     ]
    }
   ],
   "source": [
    "rows = list()\n",
    "\n",
    "for model in os.listdir(RESULTS_FOLDER):\n",
    "    \n",
    "    model_preds = list()\n",
    "    coco_labels = list()\n",
    "    for test in os.listdir(os.path.join(RESULTS_FOLDER,model)):\n",
    "        if '.csv' in test:\n",
    "            this_test = pd.read_csv(os.path.join(RESULTS_FOLDER,model, test))\n",
    "\n",
    "            if REMOVE_MISSING_SAM:\n",
    "                this_test = this_test.loc[this_test['cell_id_sam']>=0]\n",
    "            if REMOVE_MISSING_LABELS:\n",
    "                this_test = this_test.loc[this_test['cell_id_coco']>=0]\n",
    "\n",
    "            this_test = this_test.sort_values(by=['cell_id_coco', 'is_cell_sam'], ascending=[True, False])\n",
    "            this_test['has_cell_sam_1_before'] = this_test.groupby('cell_id_coco')['is_cell_sam'].cumsum() > 0\n",
    "            this_test = this_test[~((this_test['is_cell_sam'] == 0) & this_test['has_cell_sam_1_before'])]\n",
    "            this_test = this_test.drop(columns=['has_cell_sam_1_before'])\n",
    "            \n",
    "            model_preds += this_test['is_cell_sam'].values.tolist()\n",
    "            coco_labels +=  this_test['is_cell_ground_truth'].values.tolist()\n",
    "\n",
    "\n",
    "    model_preds = np.array(model_preds).astype(int)\n",
    "    coco_labels = np.array(coco_labels).astype(int)\n",
    "    if \"AutoEncoder\" in model:\n",
    "        model_preds = 1-model_preds\n",
    "    print(f\"{model} -- True Rate: {model_preds.sum()/(len(model_preds)):0.2f}\")        \n",
    "\n",
    "    rows.append([model, \n",
    "                 accuracy_score(coco_labels, model_preds), \n",
    "                 precision_score(coco_labels, model_preds), \n",
    "                 recall_score(coco_labels, model_preds), \n",
    "                 confusion_matrix(coco_labels, model_preds) # tn, fp, fn, tp\n",
    "                 ])\n",
    "\n",
    "results = pd.DataFrame(rows, columns=['model', \n",
    "                                      'accuracy_score', \n",
    "                                      'precision_score', \n",
    "                                      'recall_score', \n",
    "                                      'confusion_matrix'])\n",
    "results = results.sort_values('recall_score', ascending=False).reset_index(drop=True)\n"
   ]
  },
  {
   "cell_type": "code",
   "execution_count": 4,
   "metadata": {},
   "outputs": [
    {
     "data": {
      "text/html": [
       "<div>\n",
       "<style scoped>\n",
       "    .dataframe tbody tr th:only-of-type {\n",
       "        vertical-align: middle;\n",
       "    }\n",
       "\n",
       "    .dataframe tbody tr th {\n",
       "        vertical-align: top;\n",
       "    }\n",
       "\n",
       "    .dataframe thead th {\n",
       "        text-align: right;\n",
       "    }\n",
       "</style>\n",
       "<table border=\"1\" class=\"dataframe\">\n",
       "  <thead>\n",
       "    <tr style=\"text-align: right;\">\n",
       "      <th></th>\n",
       "      <th>model</th>\n",
       "      <th>accuracy_score</th>\n",
       "      <th>precision_score</th>\n",
       "      <th>recall_score</th>\n",
       "      <th>confusion_matrix</th>\n",
       "    </tr>\n",
       "  </thead>\n",
       "  <tbody>\n",
       "    <tr>\n",
       "      <th>0</th>\n",
       "      <td>Copy of model_Encoder_SSIM+MAE0</td>\n",
       "      <td>0.927426</td>\n",
       "      <td>1.0</td>\n",
       "      <td>0.927426</td>\n",
       "      <td>[[0, 0], [181, 2313]]</td>\n",
       "    </tr>\n",
       "  </tbody>\n",
       "</table>\n",
       "</div>"
      ],
      "text/plain": [
       "                             model  accuracy_score  precision_score  \\\n",
       "0  Copy of model_Encoder_SSIM+MAE0        0.927426              1.0   \n",
       "\n",
       "   recall_score       confusion_matrix  \n",
       "0      0.927426  [[0, 0], [181, 2313]]  "
      ]
     },
     "execution_count": 4,
     "metadata": {},
     "output_type": "execute_result"
    }
   ],
   "source": [
    "results"
   ]
  },
  {
   "cell_type": "markdown",
   "metadata": {},
   "source": [
    "# Plots"
   ]
  },
  {
   "cell_type": "code",
   "execution_count": 5,
   "metadata": {},
   "outputs": [],
   "source": [
    "def plot_confusion_matrix(cm, classes, title='Confusion matrix', cmap=plt.cm.Blues):\n",
    "\n",
    "    # From documentation of scypy and wikipedia\n",
    "    # https://scikit-learn.org/stable/modules/generated/sklearn.metrics.confusion_matrix.html\n",
    "    # https://en.wikipedia.org/wiki/Confusion_matrix\n",
    "    # We need to re-rder the matrix\n",
    "    tn, fp, fn, tp = cm.ravel()\n",
    "\n",
    "    cm = np.array([[tp, fn],[fp, tn]])\n",
    "\n",
    "    cm = cm.astype('float') / cm.sum(axis=1)[:, np.newaxis]\n",
    "    cm = np.nan_to_num(cm, 0)\n",
    "\n",
    "    plt.imshow(cm, interpolation='nearest', cmap=cmap)\n",
    "    plt.title(title, fontsize=25)\n",
    "    #plt.colorbar()\n",
    "    tick_marks = np.arange(len(classes))\n",
    "    plt.xticks(tick_marks, classes, rotation=90, fontsize=15)\n",
    "    plt.yticks(tick_marks, classes, fontsize=15)\n",
    "\n",
    "    fmt = '.2f'\n",
    "    thresh = cm.max() / 2.\n",
    "    for i, j in itertools.product(range(cm.shape[0]), range(cm.shape[1])):\n",
    "        plt.text(j, i, format(cm[i, j], fmt),\n",
    "                 horizontalalignment=\"center\",\n",
    "                 color=\"white\" if cm[i, j] > thresh else \"black\", fontsize = 14)\n",
    "\n",
    "    plt.ylabel('True label', fontsize=20)\n",
    "    plt.xlabel('Predicted label', fontsize=20)"
   ]
  },
  {
   "cell_type": "code",
   "execution_count": 6,
   "metadata": {},
   "outputs": [
    {
     "name": "stderr",
     "output_type": "stream",
     "text": [
      "/tmp/ipykernel_553/2877191624.py:11: RuntimeWarning: invalid value encountered in divide\n",
      "  cm = cm.astype('float') / cm.sum(axis=1)[:, np.newaxis]\n"
     ]
    },
    {
     "data": {
      "image/png": "[encoded data removed]",
      "text/plain": [
       "<Figure size 700x700 with 1 Axes>"
      ]
     },
     "metadata": {},
     "output_type": "display_data"
    }
   ],
   "source": [
    "for idx, row in results.iterrows():\n",
    "    plt.figure(figsize=(7,7))\n",
    "    plot_confusion_matrix(row.confusion_matrix, classes=['cell', 'not'], title=f\"{row.model}\\nRecall: {row.recall_score:0.2f}\")\n",
    "    plt.show()"
   ]
  },
  {
   "cell_type": "code",
   "execution_count": null,
   "metadata": {},
   "outputs": [],
   "source": []
  },
  {
   "cell_type": "code",
   "execution_count": null,
   "metadata": {},
   "outputs": [],
   "source": []
  },
  {
   "cell_type": "code",
   "execution_count": null,
   "metadata": {},
   "outputs": [],
   "source": []
  },
  {
   "cell_type": "code",
   "execution_count": null,
   "metadata": {},
   "outputs": [],
   "source": []
  }
 ],
 "metadata": {
  "kernelspec": {
   "display_name": "Python 3 (ipykernel)",
   "language": "python",
   "name": "python3"
  },
  "language_info": {
   "codemirror_mode": {
    "name": "ipython",
    "version": 3
   },
   "file_extension": ".py",
   "mimetype": "text/x-python",
   "name": "python",
   "nbconvert_exporter": "python",
   "pygments_lexer": "ipython3",
   "version": "3.10.6"
  }
 },
 "nbformat": 4,
 "nbformat_minor": 4
}
