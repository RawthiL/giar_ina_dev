{
 "cells": [
  {
   "cell_type": "code",
   "execution_count": 28,
   "metadata": {},
   "outputs": [],
   "source": [
    "import cv2\n",
    "import os\n",
    "import joblib\n",
    "import numpy as np\n",
    "from matplotlib import pyplot as plt\n",
    "from sklearn.cluster import KMeans"
   ]
  },
  {
   "cell_type": "code",
   "execution_count": 2,
   "metadata": {},
   "outputs": [],
   "source": [
    "def get_relative_file_paths(folder_path):\n",
    "    \n",
    "    \"\"\"\n",
    "    Gets a list of relative paths to all files within a given folder.\n",
    "\n",
    "    Args:\n",
    "        folder_path (str): The path to the folder.\n",
    "\n",
    "    Returns:\n",
    "        list: A list of relative file paths.\n",
    "    \"\"\"\n",
    "\n",
    "    file_paths = []\n",
    "    for root, dirs, files in os.walk(folder_path):\n",
    "        for file in files:\n",
    "            file_path = os.path.join(root, file)\n",
    "            file_paths.append(file_path)\n",
    "    return file_paths\n"
   ]
  },
  {
   "cell_type": "code",
   "execution_count": 25,
   "metadata": {},
   "outputs": [],
   "source": [
    "# Load images and extract features (e.g., color histograms)\n",
    "image_paths = sorted(get_relative_file_paths(\"./output/cropped_cells\"))\n",
    "images = [cv2.imread(image_path) for image_path in image_paths]\n",
    "features = [cv2.calcHist(img, [0, 1, 2], None, [8, 8, 8], [0, 256, 0, 256, 0, 256]).flatten() for img in images]\n",
    "\n",
    "# img = cv2.imread(image_paths[0])#, cv2.IMREAD_GRAYSCALE)\n",
    "# plt.subplot(1, 2, 1)\n",
    "# plt.imshow(img)#, cmap=\"gray\")\n",
    "\n",
    "\n",
    "# hist = cv2.calcHist([img],[0], None, [256], [0,256])\n",
    "# hist = cv2.calcHist([img], [0, 1, 2], None, [8, 8, 8], [0, 256, 0, 256, 0, 256]).flatten()\n",
    "# plt.subplot(1, 2, 2)\n",
    "# plt.plot(hist)\n"
   ]
  },
  {
   "cell_type": "code",
   "execution_count": 60,
   "metadata": {},
   "outputs": [
    {
     "data": {
      "text/plain": [
       "['models/kmeans_model.pkl']"
      ]
     },
     "execution_count": 60,
     "metadata": {},
     "output_type": "execute_result"
    }
   ],
   "source": [
    "# Create a 2D array of features\n",
    "features_array = np.array(features)\n",
    "\n",
    "# Assuming you have 3 clusters and want to assign labels 'class1', 'class2', and 'class3'\n",
    "class_mapping = {0: 'noise', 1: 'cell'}\n",
    "\n",
    "# Apply K-means clustering\n",
    "kmeans = KMeans(n_clusters=2)\n",
    "kmeans.fit(features_array)\n",
    "labels = kmeans.labels_\n",
    "joblib.dump(kmeans, 'models/kmeans_model.pkl')"
   ]
  },
  {
   "cell_type": "code",
   "execution_count": 64,
   "metadata": {},
   "outputs": [
    {
     "name": "stdout",
     "output_type": "stream",
     "text": [
      "./output/cropped_cells/331_1.png\n"
     ]
    },
    {
     "data": {
      "text/plain": [
       "1"
      ]
     },
     "execution_count": 64,
     "metadata": {},
     "output_type": "execute_result"
    }
   ],
   "source": [
    "loaded_kmeans = joblib.load('models/kmeans_model_cell1.pkl')\n",
    "img_predict = cv2.imread(image_paths[1])\n",
    "hist_predict = cv2.calcHist([img_predict], [0, 1, 2], None, [8, 8, 8], [0, 256, 0, 256, 0, 256]).flatten()\n",
    "hist_predict = np.array(hist_predict).reshape(1, -1)\n",
    "labels = loaded_kmeans.predict(hist_predict)\n",
    "print(image_paths[1])\n",
    "labels[0]\n"
   ]
  },
  {
   "cell_type": "code",
   "execution_count": null,
   "metadata": {},
   "outputs": [],
   "source": [
    "# Assign class labels based on cluster assignments\n",
    "class_labels = []\n",
    "for label in labels:\n",
    "    # Assign a class label based on cluster index (e.g., using a predefined mapping)\n",
    "    class_labels.append(class_mapping[label])\n",
    "\n",
    "for idx, image in enumerate(image_paths):\n",
    "    print(f\"{image} is {class_labels[idx]}\")"
   ]
  }
 ],
 "metadata": {
  "kernelspec": {
   "display_name": ".venv",
   "language": "python",
   "name": "python3"
  },
  "language_info": {
   "codemirror_mode": {
    "name": "ipython",
    "version": 3
   },
   "file_extension": ".py",
   "mimetype": "text/x-python",
   "name": "python",
   "nbconvert_exporter": "python",
   "pygments_lexer": "ipython3",
   "version": "3.12.3"
  }
 },
 "nbformat": 4,
 "nbformat_minor": 2
}
