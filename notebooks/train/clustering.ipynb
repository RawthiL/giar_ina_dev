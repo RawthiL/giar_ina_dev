{
 "cells": [
  {
   "cell_type": "code",
   "execution_count": 162,
   "metadata": {},
   "outputs": [],
   "source": [
    "import os\n",
    "import cv2\n",
    "import keras\n",
    "import joblib\n",
    "import numpy as np\n",
    "import pandas as pd\n",
    "from sklearn.cluster import KMeans"
   ]
  },
  {
   "cell_type": "markdown",
   "metadata": {},
   "source": [
    "#### Functions"
   ]
  },
  {
   "cell_type": "code",
   "execution_count": 163,
   "metadata": {},
   "outputs": [],
   "source": [
    "def get_relative_file_paths(folder_path):\n",
    "    \n",
    "    \"\"\"\n",
    "    Gets a list of relative paths to all files within a given folder.\n",
    "\n",
    "    Args:\n",
    "        folder_path (str): The path to the folder.\n",
    "\n",
    "    Returns:\n",
    "        list: A list of relative file paths.\n",
    "    \"\"\"\n",
    "\n",
    "    file_paths = []\n",
    "    for root, dirs, files in os.walk(folder_path):\n",
    "        for file in files:\n",
    "            file_path = os.path.join(root, file)\n",
    "            file_paths.append(file_path)\n",
    "    return file_paths\n",
    "\n",
    "def train_kmeans(n_clusters, features, output_dir):\n",
    "    kmeans = KMeans(n_clusters=n_clusters, random_state=42)\n",
    "    kmeans.fit(features)\n",
    "    joblib.dump(kmeans, output_dir)\n"
   ]
  },
  {
   "cell_type": "markdown",
   "metadata": {},
   "source": [
    "#### Paths"
   ]
  },
  {
   "cell_type": "code",
   "execution_count": 14,
   "metadata": {},
   "outputs": [],
   "source": [
    "\n",
    "IMAGE_DIR = \"./output/cropped_cells_full\"\n",
    "TEST_DIR = \"./output/cropped_cells\"\n",
    "KMEANS_HISTOGRAM = 'models/kmeans_histogram.pkl'\n",
    "KMEANS_ENCODER = 'models/kmeans_encoder.pkl'\n",
    "ENCODER_PATH = \"./models/encoder.keras\""
   ]
  },
  {
   "cell_type": "markdown",
   "metadata": {},
   "source": [
    "#### Load the train images"
   ]
  },
  {
   "cell_type": "code",
   "execution_count": 15,
   "metadata": {},
   "outputs": [
    {
     "name": "stdout",
     "output_type": "stream",
     "text": [
      "53642\n"
     ]
    }
   ],
   "source": [
    "image_paths = sorted(get_relative_file_paths(IMAGE_DIR))\n",
    "print(len(image_paths))\n",
    "images = [cv2.imread(file, cv2.IMREAD_GRAYSCALE) for file in image_paths]"
   ]
  },
  {
   "cell_type": "markdown",
   "metadata": {},
   "source": [
    "#### Load the test images"
   ]
  },
  {
   "cell_type": "code",
   "execution_count": 86,
   "metadata": {},
   "outputs": [
    {
     "name": "stdout",
     "output_type": "stream",
     "text": [
      "116\n"
     ]
    }
   ],
   "source": [
    "test_paths = sorted(get_relative_file_paths(TEST_DIR))\n",
    "print(len(test_paths))\n",
    "test_images = [cv2.imread(file, cv2.IMREAD_GRAYSCALE) for file in test_paths]"
   ]
  },
  {
   "cell_type": "markdown",
   "metadata": {},
   "source": [
    "### Use color histogram as features"
   ]
  },
  {
   "cell_type": "code",
   "execution_count": 152,
   "metadata": {},
   "outputs": [
    {
     "data": {
      "text/plain": [
       "(53642, 8)"
      ]
     },
     "execution_count": 152,
     "metadata": {},
     "output_type": "execute_result"
    }
   ],
   "source": [
    "# Load images and extract features (e.g., color histograms)\n",
    "features = [cv2.calcHist(img, [0], None, [8], [0, 256]).flatten() for img in images]\n",
    "features_array = np.array(features)#.reshape(-1, 1)\n",
    "features_array = features_array/255\n",
    "features_array.shape\n"
   ]
  },
  {
   "cell_type": "code",
   "execution_count": 158,
   "metadata": {},
   "outputs": [
    {
     "data": {
      "text/plain": [
       "array([1, 1, 1, ..., 0, 1, 0], dtype=int32)"
      ]
     },
     "execution_count": 158,
     "metadata": {},
     "output_type": "execute_result"
    }
   ],
   "source": [
    "train_kmeans(n_clusters=2, features=features_array, output_dir=KMEANS_HISTOGRAM)"
   ]
  },
  {
   "cell_type": "markdown",
   "metadata": {},
   "source": [
    "#### Test color histogram "
   ]
  },
  {
   "cell_type": "code",
   "execution_count": 166,
   "metadata": {},
   "outputs": [
    {
     "name": "stdout",
     "output_type": "stream",
     "text": [
      "Image: ./output/cropped_cells_full/001_00001_2.png - Prediction: 1 - shape(1, 8)\n"
     ]
    }
   ],
   "source": [
    "img_n = 12\n",
    "loaded_kmeans = joblib.load(KMEANS_HISTOGRAM)\n",
    "\n",
    "feature = cv2.calcHist(test_images[img_n], [0], None, [8], [0, 256]).flatten()\n",
    "feature = np.array(feature).reshape(1, -1)\n",
    "feature = feature/255\n",
    "labels = loaded_kmeans.predict(feature)\n",
    "\n",
    "print(f\"Image: {test_paths[img_n]} - Prediction: {labels[0]} - shape{feature.shape}\")\n"
   ]
  },
  {
   "cell_type": "markdown",
   "metadata": {},
   "source": [
    "### Use encoder embeddings as features"
   ]
  },
  {
   "cell_type": "code",
   "execution_count": 27,
   "metadata": {},
   "outputs": [],
   "source": [
    "#Transform input images for encoder input\n",
    "images = [cv2.resize(image, (128, 128)) for image in images]\n",
    "images = np.array(images)\n",
    "images = images/255\n",
    "images = [np.expand_dims(image, axis=(0, -1)) for image in images]"
   ]
  },
  {
   "cell_type": "code",
   "execution_count": 28,
   "metadata": {},
   "outputs": [],
   "source": [
    "# Extract features from encoder\n",
    "encoder = keras.saving.load_model(ENCODER_PATH)\n",
    "predictions = []\n",
    "for image in images:\n",
    "    predictions.append(encoder.predict(image, verbose=0))\n",
    "\n",
    "features = np.array(predictions)\n",
    "features_array = features.reshape(features.shape[0], features.shape[2]) # Create a 2D array of features since features is 3D"
   ]
  },
  {
   "cell_type": "markdown",
   "metadata": {},
   "source": [
    "#### Test encoder kmeans"
   ]
  },
  {
   "cell_type": "code",
   "execution_count": null,
   "metadata": {},
   "outputs": [],
   "source": [
    "img_n = 1\n",
    "loaded_kmeans = joblib.load(KMEANS_HISTOGRAM)\n",
    "encoder = keras.saving.load_model(ENCODER_PATH)\n",
    "\n",
    "img = np.expand_dims(test_images[img_n], axis=(0, -1))\n",
    "feature = loaded_kmeans.predict(encoder.predict(img, verbose=0))[0]\n",
    "labels = loaded_kmeans.predict(feature)\n",
    "\n",
    "print(f\"Image: {test_paths[img_n]} - Prediction: {labels[0]}\")"
   ]
  },
  {
   "cell_type": "markdown",
   "metadata": {},
   "source": [
    "### Create datasets"
   ]
  },
  {
   "cell_type": "code",
   "execution_count": 170,
   "metadata": {},
   "outputs": [],
   "source": [
    "import shutil"
   ]
  },
  {
   "cell_type": "code",
   "execution_count": 178,
   "metadata": {},
   "outputs": [],
   "source": [
    "if not os.path.exists('./output/noise'):\n",
    "    os.makedirs('./output/noise')\n",
    "\n",
    "if not os.path.exists('./output/cells'):\n",
    "    os.makedirs('./output/cells')"
   ]
  },
  {
   "cell_type": "markdown",
   "metadata": {},
   "source": [
    "#### Get info from centroid distances"
   ]
  },
  {
   "cell_type": "code",
   "execution_count": 169,
   "metadata": {},
   "outputs": [
    {
     "name": "stdout",
     "output_type": "stream",
     "text": [
      "Distances to noise centroid: \n",
      "Min:  0.014769027940928936\n",
      "Max:  0.8673118948936462\n",
      "Mean: 0.4468424320220947\n",
      "\n",
      "Distances to cell centroid: \n",
      "Min:  0.018689196556806564\n",
      "Max:  0.8502339720726013\n",
      "Mean: 0.36665523052215576\n"
     ]
    }
   ],
   "source": [
    "kmeans_loaded = joblib.load(KMEANS_HISTOGRAM)\n",
    "centroids = kmeans_loaded.cluster_centers_\n",
    "distances = []\n",
    "for idx, feature in enumerate(features_array):\n",
    "    distance_to_noise_centroid = np.linalg.norm(feature - centroids[0])\n",
    "    distance_to_cell_centroid = np.linalg.norm(feature - centroids[1])\n",
    "\n",
    "    distances.append([image_paths[idx], distance_to_noise_centroid, distance_to_cell_centroid])\n",
    "\n",
    "df = pd.DataFrame(distances, columns=['Image', 'distance_to_noise_centroid', 'distance_to_cell_centroid'])\n",
    "df.to_csv('./distances.csv')\n",
    "\n",
    "print(f\"Distances to noise centroid: \")\n",
    "print(f\"Min:  {df['distance_to_noise_centroid'].min()}\")\n",
    "print(f\"Max:  {df['distance_to_noise_centroid'].max()}\")\n",
    "print(f\"Mean: {df['distance_to_noise_centroid'].mean()}\")\n",
    "print()\n",
    "print(f\"Distances to cell centroid: \")\n",
    "print(f\"Min:  {df['distance_to_cell_centroid'].min()}\")\n",
    "print(f\"Max:  {df['distance_to_cell_centroid'].max()}\")\n",
    "print(f\"Mean: {df['distance_to_cell_centroid'].mean()}\")"
   ]
  },
  {
   "cell_type": "markdown",
   "metadata": {},
   "source": [
    "#### Create noise/cell dataset from predictions"
   ]
  },
  {
   "cell_type": "code",
   "execution_count": 19,
   "metadata": {},
   "outputs": [],
   "source": [
    "for image in image_paths:\n",
    "    img = cv2.imread(image)\n",
    "    img_name = os.path.basename(image)\n",
    "    prediction = cv2.calcHist([img], [0], None, [8], [0, 256]).flatten()\n",
    "    prediction = np.array(prediction).reshape(1, -1)\n",
    "    prediction = prediction/255\n",
    "    cell = True if kmeans_loaded.predict(prediction)[0] == 1 else False\n",
    "    folder = \"cells\" if cell else \"noise\"\n",
    "    shutil.copyfile(image, f\"./output/{folder}/{img_name}\")"
   ]
  },
  {
   "cell_type": "markdown",
   "metadata": {},
   "source": [
    "#### Create new noise/cell datasets choosing by centroid distance"
   ]
  },
  {
   "cell_type": "code",
   "execution_count": 179,
   "metadata": {},
   "outputs": [],
   "source": [
    "cell_threshold  = 0.36\n",
    "noise_threshold = 0.16\n",
    "for distance in distances:\n",
    "    img_name = os.path.basename(distance[0])\n",
    "\n",
    "    #distance[2] is the distance to the cell centroid and distance[1] to the noise centroid\n",
    "    cell = True if distance[2] <= cell_threshold and distance[1] >= noise_threshold else False\n",
    "\n",
    "    folder = \"cells\" if cell else \"noise\"\n",
    "    shutil.copyfile(distance[0], f\"./output/{folder}/{img_name}\")\n"
   ]
  }
 ],
 "metadata": {
  "kernelspec": {
   "display_name": ".venv",
   "language": "python",
   "name": "python3"
  },
  "language_info": {
   "codemirror_mode": {
    "name": "ipython",
    "version": 3
   },
   "file_extension": ".py",
   "mimetype": "text/x-python",
   "name": "python",
   "nbconvert_exporter": "python",
   "pygments_lexer": "ipython3",
   "version": "3.12.3"
  }
 },
 "nbformat": 4,
 "nbformat_minor": 2
}
