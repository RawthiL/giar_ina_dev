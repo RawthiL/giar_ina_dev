{
 "cells": [
  {
   "cell_type": "code",
   "execution_count": null,
   "metadata": {},
   "outputs": [],
   "source": [
    "import os\n",
    "import cv2\n",
    "import keras\n",
    "import numpy as np\n",
    "import pandas as pd\n",
    "import tensorflow as tf     \n",
    "from matplotlib import pyplot as plt"
   ]
  },
  {
   "cell_type": "code",
   "execution_count": null,
   "metadata": {},
   "outputs": [],
   "source": [
    "data = tf.keras.utils.image_dataset_from_directory('../data')"
   ]
  },
  {
   "cell_type": "code",
   "execution_count": null,
   "metadata": {},
   "outputs": [],
   "source": [
    "data_iterator = data.as_numpy_iterator()\n"
   ]
  },
  {
   "cell_type": "code",
   "execution_count": null,
   "metadata": {},
   "outputs": [],
   "source": [
    "batch = data_iterator.next()"
   ]
  },
  {
   "cell_type": "code",
   "execution_count": null,
   "metadata": {},
   "outputs": [],
   "source": [
    "fig, ax = plt.subplots(ncols=4, figsize=(20,20))\n",
    "for idx, img in enumerate(batch[0][:4]):\n",
    "    ax[idx].imshow(img.astype(int))\n",
    "    ax[idx].title.set_text(batch[1][idx])"
   ]
  },
  {
   "cell_type": "code",
   "execution_count": null,
   "metadata": {},
   "outputs": [],
   "source": [
    "data = data.map(lambda x,y: (x/255, y))\n",
    "data.as_numpy_iterator().next()"
   ]
  },
  {
   "cell_type": "code",
   "execution_count": null,
   "metadata": {},
   "outputs": [],
   "source": [
    "train_size = int(len(data)*.7)\n",
    "val_size = int(len(data)*.2)\n",
    "test_size = int(len(data)*.1)"
   ]
  },
  {
   "cell_type": "code",
   "execution_count": null,
   "metadata": {},
   "outputs": [],
   "source": [
    "train = data.take(train_size)\n",
    "val = data.skip(train_size).take(val_size)\n",
    "test = data.skip(train_size+val_size).take(test_size)"
   ]
  },
  {
   "cell_type": "code",
   "execution_count": null,
   "metadata": {},
   "outputs": [],
   "source": [
    "len(data)"
   ]
  },
  {
   "cell_type": "code",
   "execution_count": null,
   "metadata": {},
   "outputs": [],
   "source": [
    "from tensorflow.keras.models import Sequential\n",
    "from tensorflow.keras.layers import Conv2D, MaxPooling2D, Dense, Flatten, Dropout\n",
    "\n",
    "model = Sequential()\n",
    "\n",
    "model.add(Conv2D(16, (3,3), 1, activation='relu', input_shape=(256,256,3)))\n",
    "model.add(MaxPooling2D())\n",
    "model.add(Conv2D(32, (3,3), 1, activation='relu'))\n",
    "model.add(MaxPooling2D())\n",
    "model.add(Conv2D(16, (3,3), 1, activation='relu'))\n",
    "model.add(MaxPooling2D())\n",
    "model.add(Flatten())\n",
    "model.add(Dense(256, activation='relu'))\n",
    "model.add(Dense(1, activation='sigmoid'))\n",
    "\n",
    "model.compile('adam', loss=tf.losses.BinaryCrossentropy(), metrics=['accuracy'])\n",
    "model.save('model.keras')"
   ]
  },
  {
   "cell_type": "code",
   "execution_count": null,
   "metadata": {},
   "outputs": [],
   "source": [
    "model.summary()"
   ]
  },
  {
   "cell_type": "code",
   "execution_count": null,
   "metadata": {},
   "outputs": [],
   "source": [
    "logdir='logs'"
   ]
  },
  {
   "cell_type": "code",
   "execution_count": null,
   "metadata": {},
   "outputs": [],
   "source": [
    "tensorboard_callback = tf.keras.callbacks.TensorBoard(log_dir=logdir)"
   ]
  },
  {
   "cell_type": "code",
   "execution_count": null,
   "metadata": {},
   "outputs": [],
   "source": [
    "hist = model.fit(train, epochs=20, validation_data=val, callbacks=[tensorboard_callback])"
   ]
  },
  {
   "cell_type": "code",
   "execution_count": null,
   "metadata": {},
   "outputs": [],
   "source": [
    "model.save(\"model.keras\")"
   ]
  },
  {
   "cell_type": "code",
   "execution_count": null,
   "metadata": {},
   "outputs": [],
   "source": [
    "fig = plt.figure()\n",
    "plt.plot(hist.history['loss'], color='teal', label='loss')\n",
    "plt.plot(hist.history['val_loss'], color='orange', label='val_loss')\n",
    "fig.suptitle('Loss', fontsize=20)\n",
    "plt.legend(loc=\"upper left\")\n",
    "plt.show()"
   ]
  },
  {
   "cell_type": "code",
   "execution_count": null,
   "metadata": {},
   "outputs": [],
   "source": [
    "fig = plt.figure()\n",
    "plt.plot(hist.history['accuracy'], color='teal', label='accuracy')\n",
    "plt.plot(hist.history['val_accuracy'], color='orange', label='val_accuracy')\n",
    "fig.suptitle('Accuracy', fontsize=20)\n",
    "plt.legend(loc=\"upper left\")\n",
    "plt.show()"
   ]
  },
  {
   "cell_type": "code",
   "execution_count": null,
   "metadata": {},
   "outputs": [],
   "source": []
  },
  {
   "cell_type": "code",
   "execution_count": null,
   "metadata": {},
   "outputs": [],
   "source": [
    "def mask_applier(model_path: str, csv_path: str, cells_path: str, images_path: str) -> None:\n",
    "\n",
    "    \"\"\"\n",
    "    Adds bounding boxes to the cells of the original image by filtering out the noise with a ml model\n",
    "\n",
    "    Parameters:\n",
    "    - model_path:  str : path to the keras model to use\n",
    "    - csv_path:    str : path to the csv with the data of the masks - output of sam generated masks\n",
    "    - cells_path:  str : path to the individual cells images - output of sam generated masks\n",
    "    - images_path: str : path to the full images\n",
    "\n",
    "    Outputs:\n",
    "    If it does not exists, creates the detected_cells folder where it stores the full images with \n",
    "    the new bounding boxed added\n",
    "    \"\"\"\n",
    "\n",
    "    OUTPUT_PATH = './detected_cells' \n",
    "\n",
    "    model = keras.models.load_model(model_path)\n",
    "    df = pd.read_csv(csv_path)\n",
    "    imgs = sorted(os.listdir(cells_path))\n",
    "    os.makedirs(OUTPUT_PATH, exist_ok=True)\n",
    "\n",
    "    prv_image = \"\"\n",
    "\n",
    "    for idx, file in enumerate(imgs):\n",
    "        print(f\"Image: {idx + 1}/{len(imgs)}\", end='\\r')\n",
    "\n",
    "        #Cargo imagen\n",
    "        image_name = os.fsdecode(file)\n",
    "        image_path = cells_path + image_name\n",
    "        img = cv2.imread(image_path)\n",
    "\n",
    "        cell_id = image_name.split('_')[1].split('.')[0]\n",
    "        img_nbr = image_name.split('_')[0]\n",
    "        og_image = f'{img_nbr}.png'\n",
    "\n",
    "        #Load the full image only when there is an image change\n",
    "        if (prv_image != og_image):\n",
    "            full_image_path = os.path.join(images_path, og_image) \n",
    "            full_image = cv2.imread(full_image_path)\n",
    "        prv_image = og_image\n",
    "\n",
    "        #Get prediction, 0 for cell 1 for noise\n",
    "        resize = tf.image.resize(img, (256,256))\n",
    "        yhat = model.predict(np.expand_dims(resize/255, 0),verbose = 0)\n",
    "        yhat = np.where(yhat[0][0] >= 0.5, 1, 0)    \n",
    "\n",
    "        #If there is a cell, draw a rectangle\n",
    "        if not yhat:\n",
    "            row = df.loc[(df['image'] == og_image) & (df['cell_id'] == int(cell_id))].to_dict('records')[0]\n",
    "        \n",
    "            x, y, w, h = row['x'], row['y'], row['w'], row['h']\n",
    "            cv2.rectangle(full_image, (x, y), (x + w, y + h), 255, 10)\n",
    "        \n",
    "        #Save the new image when there is an image change or is the last file\n",
    "        if (prv_image != og_image) or (idx + 1 == len(imgs)):\n",
    "            cv2.imwrite(os.path.join(OUTPUT_PATH, f\"{img_nbr}.png\"), full_image)"
   ]
  }
 ],
 "metadata": {
  "kernelspec": {
   "display_name": "cell_classifier",
   "language": "python",
   "name": "python3"
  },
  "language_info": {
   "codemirror_mode": {
    "name": "ipython",
    "version": 3
   },
   "file_extension": ".py",
   "mimetype": "text/x-python",
   "name": "python",
   "nbconvert_exporter": "python",
   "pygments_lexer": "ipython3",
   "version": "3.12.3"
  }
 },
 "nbformat": 4,
 "nbformat_minor": 2
}
